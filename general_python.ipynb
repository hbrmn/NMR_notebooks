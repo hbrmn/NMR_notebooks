{
 "cells": [
  {
   "cell_type": "markdown",
   "metadata": {},
   "source": [
    "# General Python notes\n",
    "\n"
   ]
  },
  {
   "cell_type": "markdown",
   "metadata": {},
   "source": [
    "## Object oriented programming\n",
    "\n",
    "Before any python code in a file is run it sets a number of variables:\n",
    "\n",
    "1. `__name__` is set to `__main__` within a module. If a module is imported into another code, `__name__` will be the name of the imported module. \n",
    " This allows for a convenient `if __name__ == '__main__':` statement for code that needs to be run once code initializes.\n",
    "\n",
    "\n",
    "2. The part `self` of a class has a special meaning in Python and passes the object name.\n",
    "\n",
    "\n",
    "3. Make a custom constructor for classes by executing `def __init__(attrib1, attrib2, ...)`\n",
    "\n"
   ]
  },
  {
   "cell_type": "markdown",
   "metadata": {},
   "source": [
    "3. Example for a class:\n",
    "\n",
    "```python\n",
    "class Demo:\n",
    "    def __init__(self, attrib1, attrib2, attrib3):\n",
    "        self.attrib1 = attrib1\n",
    "        self.attrib2 = attrib2\n",
    "        self.attrib3 = attrib3\n",
    "    \n",
    "    def function_one(self):\n",
    "        print(\"This is a string \" + self.attrib1)\n",
    "```"
   ]
  },
  {
   "cell_type": "markdown",
   "metadata": {},
   "source": [
    "## \\*args and \\*\\*kwargs"
   ]
  },
  {
   "cell_type": "markdown",
   "metadata": {},
   "source": [
    "## Making sub classes\n",
    "\n",
    "In the following way, new attributes can be patched into an already existing class, however, \\*args and \\*\\*kwargs are not very self-explaining and a good docstring might be very helpful in the subDemo class.\n",
    "\n",
    "```python\n",
    "class Demo:\n",
    "    def __init__(self, attrib1, attrib2):\n",
    "        self.attrib1 = attrib1\n",
    "        self.attrib2 = attrib2\n",
    "        \n",
    "class subDemo:\n",
    "    def __init__(self, *args, **kwargs):\n",
    "        super().__init__(*args, **kwargs)\n",
    "        self.attrib2 = attrib3\n",
    "```"
   ]
  },
  {
   "cell_type": "code",
   "execution_count": null,
   "metadata": {},
   "outputs": [],
   "source": []
  }
 ],
 "metadata": {
  "kernelspec": {
   "display_name": "Python 3",
   "language": "python",
   "name": "python3"
  },
  "language_info": {
   "codemirror_mode": {
    "name": "ipython",
    "version": 3
   },
   "file_extension": ".py",
   "mimetype": "text/x-python",
   "name": "python",
   "nbconvert_exporter": "python",
   "pygments_lexer": "ipython3",
   "version": "3.7.6"
  }
 },
 "nbformat": 4,
 "nbformat_minor": 4
}
